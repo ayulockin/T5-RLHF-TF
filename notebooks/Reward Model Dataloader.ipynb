{
 "cells": [
  {
   "cell_type": "code",
   "execution_count": 24,
   "id": "11a2b9b2",
   "metadata": {},
   "outputs": [],
   "source": [
    "import os\n",
    "import numpy as np\n",
    "import pandas as pd\n",
    "from tqdm import tqdm"
   ]
  },
  {
   "cell_type": "code",
   "execution_count": 5,
   "id": "f7da9379",
   "metadata": {},
   "outputs": [],
   "source": [
    "DATA_PATH = \"../../comparison_splits/\"\n",
    "\n",
    "train_file = DATA_PATH+\"train_0_4.jsonl\"\n",
    "valid_file = DATA_PATH+\"valid1_0_4.jsonl\""
   ]
  },
  {
   "cell_type": "code",
   "execution_count": 30,
   "id": "c87c49df",
   "metadata": {},
   "outputs": [],
   "source": [
    "import json\n",
    "\n",
    "\n",
    "def read_data(file_path):\n",
    "    with open(file_path, 'r') as json_file:\n",
    "        json_list = list(json_file)\n",
    "        json_file.close()\n",
    "        \n",
    "    return json_list\n",
    "\n",
    "\n",
    "def prepare_dataset(samples, dataset_type):\n",
    "    with open(f\"../../comparison_splits/{dataset_type}.jsonl\", 'a') as outfile:\n",
    "        for json_str in tqdm(samples):\n",
    "            sample = json.loads(json_str)\n",
    "            sample_id = sample[\"info\"][\"id\"]\n",
    "            post = sample[\"info\"][\"post\"]\n",
    "            choice = sample[\"choice\"]\n",
    "            summaries = sample[\"summaries\"]\n",
    "            for i, summary in enumerate(summaries):\n",
    "                summary = summary[\"text\"]\n",
    "                example = {\n",
    "                    \"id\": sample_id,\n",
    "                    \"post\": post,\n",
    "                    \"summary\": summary,\n",
    "                    \"label\": 1 if choice==i else 0\n",
    "                }\n",
    "                json.dump(example, outfile)\n",
    "                outfile.write('\\n')\n",
    "    outfile.close()"
   ]
  },
  {
   "cell_type": "code",
   "execution_count": 33,
   "id": "d4152f2d",
   "metadata": {},
   "outputs": [
    {
     "name": "stderr",
     "output_type": "stream",
     "text": [
      "100%|███████████████████████████████████████████████████████████████████████████████████████████████| 37143/37143 [00:02<00:00, 13111.33it/s]\n"
     ]
    }
   ],
   "source": [
    "train_data = read_data(train_file)\n",
    "prepare_dataset(train_data, \"train\")"
   ]
  },
  {
   "cell_type": "code",
   "execution_count": 34,
   "id": "e25cfa5c",
   "metadata": {},
   "outputs": [
    {
     "name": "stderr",
     "output_type": "stream",
     "text": [
      "100%|███████████████████████████████████████████████████████████████████████████████████████████████| 13232/13232 [00:00<00:00, 13263.88it/s]\n"
     ]
    }
   ],
   "source": [
    "valid_data = read_data(valid_file)\n",
    "prepare_dataset(valid_data, \"valid\")"
   ]
  },
  {
   "cell_type": "code",
   "execution_count": null,
   "id": "60bf905d",
   "metadata": {},
   "outputs": [],
   "source": []
  },
  {
   "cell_type": "code",
   "execution_count": null,
   "id": "7027c4c7",
   "metadata": {},
   "outputs": [],
   "source": []
  },
  {
   "cell_type": "code",
   "execution_count": null,
   "id": "96597a35",
   "metadata": {},
   "outputs": [],
   "source": []
  }
 ],
 "metadata": {
  "kernelspec": {
   "display_name": "Python 3 (ipykernel)",
   "language": "python",
   "name": "python3"
  },
  "language_info": {
   "codemirror_mode": {
    "name": "ipython",
    "version": 3
   },
   "file_extension": ".py",
   "mimetype": "text/x-python",
   "name": "python",
   "nbconvert_exporter": "python",
   "pygments_lexer": "ipython3",
   "version": "3.7.12"
  }
 },
 "nbformat": 4,
 "nbformat_minor": 5
}
